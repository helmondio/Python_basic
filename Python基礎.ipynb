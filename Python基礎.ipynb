{
  "cells": [
    {
      "cell_type": "markdown",
      "metadata": {
        "id": "JaVOy0NKWxc-"
      },
      "source": [
        "### Input & Output"
      ]
    },
    {
      "cell_type": "code",
      "execution_count": null,
      "metadata": {
        "id": "MJIRxfxRWxdB"
      },
      "outputs": [],
      "source": [
        "print('Hello World')\n",
        "name = input('請輸入你的名字：')\n",
        "print('Hello', name)"
      ]
    },
    {
      "cell_type": "markdown",
      "metadata": {
        "id": "SRc--kFXWxdE"
      },
      "source": [
        "### 變數"
      ]
    },
    {
      "cell_type": "code",
      "execution_count": null,
      "metadata": {
        "collapsed": true,
        "id": "h5L6W7hTWxdF"
      },
      "outputs": [],
      "source": [
        "# num\n",
        "num1 = 2\n",
        "num2 = 3.2\n",
        "\n",
        "# string\n",
        "str1 = 'abc'\n",
        "str2 = \"abc\"\n",
        "str3 = \"'abc'\"\n",
        "str4 = ' I\\'m \\\"OK\\\"! '\n",
        "\n",
        "print(str1)\n",
        "print(str2)\n",
        "print(str3)\n",
        "print(str4)\n",
        "\n",
        "# boolean\n",
        "T = True\n",
        "F = False\n",
        "\n",
        "#var = 1 + 1 == 2\n",
        "#print (var)\n"
      ]
    },
    {
      "cell_type": "markdown",
      "metadata": {
        "id": "yfgYGACgWxdF"
      },
      "source": [
        "### List:不限type"
      ]
    },
    {
      "cell_type": "code",
      "execution_count": null,
      "metadata": {
        "id": "-5LgASv8WxdF"
      },
      "outputs": [],
      "source": [
        "# list1\n",
        "\n",
        "fruits = ['蘋果', '香蕉', '芭樂']\n",
        "print(fruits[0])\n",
        "print(fruits[-1])\n",
        "\n",
        "# append\n",
        "#fruits.append('草莓')\n",
        "\n",
        "# insert\n",
        "#fruits.insert(1, '龍眼')\n",
        "\n",
        "# pop\n",
        "#fruits.pop()\n",
        "\n",
        "# pop(index)\n",
        "#fruits.pop(1)\n",
        "\n",
        "print(fruits)\n",
        "\n",
        "#https://www.w3schools.com/python/default.asp or https://www.w3school.com.cn/python/index.asp"
      ]
    },
    {
      "cell_type": "code",
      "execution_count": null,
      "metadata": {
        "id": "WRT97YaNWxdG"
      },
      "outputs": [],
      "source": [
        "# list2\n",
        "L = ['Apple', 123, True]\n",
        "s = ['python', 'java', ['asp', 'php'], 'scheme']\n",
        "\n",
        "print(s[2][1])"
      ]
    },
    {
      "cell_type": "markdown",
      "metadata": {
        "id": "GfNncf15WxdH"
      },
      "source": [
        "### Dictionary(dict): 用key-value存值"
      ]
    },
    {
      "cell_type": "code",
      "execution_count": null,
      "metadata": {
        "id": "1XOt850dWxdH"
      },
      "outputs": [],
      "source": [
        "d = {'Apple': 20, 'Banana': 10, 'Pineapple': 34}\n",
        "print(d['Apple'])\n",
        "\n",
        "# 判斷是否存在\n",
        "print( 'Papaya' in d )\n",
        "\n",
        "# get()\n",
        "d.get('Apple')\n",
        "\n",
        "# pop()\n",
        "d.pop('Pineapple')"
      ]
    },
    {
      "cell_type": "markdown",
      "metadata": {
        "id": "o9zdPu3YWxdI"
      },
      "source": [
        "### 條件"
      ]
    },
    {
      "cell_type": "code",
      "execution_count": null,
      "metadata": {
        "id": "2jL-7TsuWxdJ"
      },
      "outputs": [],
      "source": [
        "age = input('你幾歲')\n",
        "age = int(age)\n",
        "\n",
        "if age >= 18:\n",
        "    print('adult')\n",
        "elif age >= 12:\n",
        "    print('teenager')\n",
        "else:\n",
        "    print('kid')"
      ]
    },
    {
      "cell_type": "markdown",
      "metadata": {
        "id": "OPRzP9LLWxdJ"
      },
      "source": [
        "### 或(or)、和(and)"
      ]
    },
    {
      "cell_type": "code",
      "execution_count": null,
      "metadata": {
        "id": "3Br0f5CkWxdJ"
      },
      "outputs": [],
      "source": [
        "x = 1\n",
        "y = 2\n",
        "\n",
        "# or\n",
        "if x==1 or y==1:\n",
        "    print('x, y其中有1')\n",
        "else:\n",
        "    print('都沒有1')\n",
        "    \n",
        "# and\n",
        "if x==1 and y==1:\n",
        "    print('x, y都是1')\n",
        "else:\n",
        "    print('x, y中有不是1的')"
      ]
    },
    {
      "cell_type": "markdown",
      "metadata": {
        "id": "h0RAjjPpWxdK"
      },
      "source": [
        "### 迴圈"
      ]
    },
    {
      "cell_type": "code",
      "execution_count": null,
      "metadata": {
        "id": "3EQE-osxWxdK"
      },
      "outputs": [],
      "source": [
        "# while\n",
        "n = 0\n",
        "while n<5:\n",
        "    print(n)\n",
        "    n = n+1\n",
        "    \n",
        "# for\n",
        "#for i in range(0, 10):\n",
        "#    print(i)"
      ]
    },
    {
      "cell_type": "markdown",
      "metadata": {
        "id": "WZ4CULDUWxdL"
      },
      "source": [
        "### 內建函式"
      ]
    },
    {
      "cell_type": "code",
      "execution_count": null,
      "metadata": {
        "id": "bRB3jNmQWxdL"
      },
      "outputs": [],
      "source": [
        "# abs()\n",
        "abs(-100)\n",
        "\n",
        "# max()\n",
        "max(1, 2, 3)\n",
        "\n",
        "# type轉換\n",
        "int('123')\n",
        "int(12.34)\n",
        "str(12.3)\n",
        "#print(type(str(12.3)))"
      ]
    },
    {
      "cell_type": "markdown",
      "metadata": {
        "id": "xBd_BrndWxdM"
      },
      "source": [
        "### 自己寫函式"
      ]
    },
    {
      "cell_type": "code",
      "execution_count": null,
      "metadata": {
        "id": "CvPkWgs-WxdM"
      },
      "outputs": [],
      "source": [
        "def my_abs(x):\n",
        "    if x>= 0:\n",
        "        return x\n",
        "    else:\n",
        "        return -x\n",
        "    \n",
        "my_abs(-3)"
      ]
    },
    {
      "cell_type": "markdown",
      "metadata": {
        "id": "j08kXfKTWxdM"
      },
      "source": [
        "### 讀寫文件"
      ]
    },
    {
      "cell_type": "code",
      "execution_count": null,
      "metadata": {
        "id": "7bAu6lQVWxdM"
      },
      "outputs": [],
      "source": [
        "# 基本讀寫\n",
        "path = 'hello.txt'\n",
        "f = open(path, 'r')\n",
        "context = f.read()\n",
        "\n",
        "print(context)\n",
        "f.close()"
      ]
    },
    {
      "cell_type": "code",
      "execution_count": null,
      "metadata": {
        "id": "rnVxucbzWxdN"
      },
      "outputs": [],
      "source": [
        "# 用with\n",
        "\n",
        "path = 'hello.txt'\n",
        "\n",
        "with open(path, 'r') as f:\n",
        "    print(f.read())"
      ]
    },
    {
      "cell_type": "markdown",
      "metadata": {
        "id": "bA6ObE9yWllR"
      },
      "source": [
        "### urllib：URL控制模組"
      ]
    },
    {
      "cell_type": "code",
      "execution_count": null,
      "metadata": {
        "collapsed": true,
        "id": "WUI0fa9iWllR"
      },
      "outputs": [],
      "source": [
        "import urllib\n",
        "import urllib.request"
      ]
    },
    {
      "cell_type": "code",
      "execution_count": null,
      "metadata": {
        "id": "AKg1xz34WllS"
      },
      "outputs": [],
      "source": [
        "# 存取網頁\n",
        "data = urllib.request.urlopen('https://www.google.com')\n",
        "print(data.read())"
      ]
    },
    {
      "cell_type": "code",
      "execution_count": null,
      "metadata": {
        "id": "9USNyALwWllT"
      },
      "outputs": [],
      "source": [
        "# 下載網頁資源\n",
        "url = 'https://upload.wikimedia.org/wikipedia/commons/thumb/3/3a/Cat03.jpg/230px-Cat03.jpg' # 來源網址\n",
        "path = './cat.jpg' # 下載位置\n",
        "urllib.request.urlretrieve(url, path)"
      ]
    },
    {
      "cell_type": "markdown",
      "metadata": {
        "id": "Xn2mx35lWllT"
      },
      "source": [
        "### requests：發送HTTP請求模組"
      ]
    },
    {
      "cell_type": "code",
      "execution_count": null,
      "metadata": {
        "collapsed": true,
        "id": "X4cZsiXqWllT"
      },
      "outputs": [],
      "source": [
        "# pip install requests\n",
        "import requests"
      ]
    },
    {
      "cell_type": "code",
      "execution_count": null,
      "metadata": {
        "id": "MSdHeme0WllU"
      },
      "outputs": [],
      "source": [
        "# 存取網頁\n",
        "resp = requests.get('https://www.google.com')\n",
        "print(resp.text)"
      ]
    },
    {
      "cell_type": "markdown",
      "metadata": {
        "id": "97li-5V8WllU"
      },
      "source": [
        "### BeautifulSoup：解構網頁模組"
      ]
    },
    {
      "cell_type": "code",
      "execution_count": null,
      "metadata": {
        "collapsed": true,
        "colab": {
          "base_uri": "https://localhost:8080/"
        },
        "id": "MdI8SdFiWllU",
        "outputId": "27345f79-4369-4486-9cf4-8d3dc52438a2"
      },
      "outputs": [
        {
          "output_type": "stream",
          "name": "stdout",
          "text": [
            "Looking in indexes: https://pypi.org/simple, https://us-python.pkg.dev/colab-wheels/public/simple/\n",
            "Requirement already satisfied: beautifulsoup4 in /usr/local/lib/python3.10/dist-packages (4.11.2)\n",
            "Requirement already satisfied: soupsieve>1.2 in /usr/local/lib/python3.10/dist-packages (from beautifulsoup4) (2.4.1)\n"
          ]
        }
      ],
      "source": [
        "!pip install beautifulsoup4\n",
        "from bs4 import BeautifulSoup"
      ]
    },
    {
      "cell_type": "code",
      "execution_count": null,
      "metadata": {
        "id": "Yc67WaTzWllV"
      },
      "outputs": [],
      "source": [
        "# 把網頁用bs讀取\n",
        "\n",
        "import requests\n",
        "\n",
        "resp = requests.get('https://www.google.com')\n",
        "\n",
        "if resp.status_code != 200:\n",
        "    print('Invalid url:', resp.url)\n",
        "else:\n",
        "    page = resp.text\n",
        "    \n",
        "soup = BeautifulSoup(page, 'html.parser')\n",
        "print(soup.prettify())"
      ]
    },
    {
      "cell_type": "code",
      "execution_count": null,
      "metadata": {
        "id": "1k8KHyhwWllW"
      },
      "outputs": [],
      "source": [
        "# 拿到網頁資源\n",
        "# soup.a\n",
        "# soup.find_all('a')\n",
        "# soup.find_all('a')[0]\n",
        "soup.find_all('a')[0]['href']"
      ]
    }
  ],
  "metadata": {
    "kernelspec": {
      "display_name": "Python 3",
      "language": "python",
      "name": "python3"
    },
    "language_info": {
      "codemirror_mode": {
        "name": "ipython",
        "version": 3
      },
      "file_extension": ".py",
      "mimetype": "text/x-python",
      "name": "python",
      "nbconvert_exporter": "python",
      "pygments_lexer": "ipython3",
      "version": "3.6.1"
    },
    "colab": {
      "provenance": []
    }
  },
  "nbformat": 4,
  "nbformat_minor": 0
}